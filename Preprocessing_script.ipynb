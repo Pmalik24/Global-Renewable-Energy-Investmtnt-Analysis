{
  "cells": [
    {
      "cell_type": "code",
      "execution_count": 2,
      "id": "d0550291-7d79-4bcc-b1bf-96935ef0650f",
      "metadata": {
        "ExecuteTime": {
          "end_time": "2023-06-14T19:35:28.619221+00:00",
          "start_time": "2023-06-14T19:35:27.770466+00:00"
        },
        "datalink": {
          "1ffcc4e2-85cb-418a-b373-18f366961e32": {
            "applied_filters": [],
            "dataframe_info": {
              "default_index_used": true,
              "orig_num_cols": 37,
              "orig_num_rows": 5,
              "orig_size_bytes": 1520,
              "truncated_num_cols": 37,
              "truncated_num_rows": 5,
              "truncated_size_bytes": 1520,
              "truncated_string_columns": []
            },
            "display_id": "1ffcc4e2-85cb-418a-b373-18f366961e32",
            "dx_settings": {
              "ALLOW_NOTEABLE_ATTRS": true,
              "COLUMN_SAMPLING_METHOD": "outer",
              "DB_LOCATION": ":memory:",
              "DEV_MODE": false,
              "DISPLAY_MAX_COLUMNS": 100,
              "DISPLAY_MAX_ROWS": 50000,
              "DISPLAY_MODE": "simple",
              "ENABLE_ASSIGNMENT": true,
              "ENABLE_DATALINK": true,
              "FLATTEN_COLUMN_VALUES": true,
              "FLATTEN_INDEX_VALUES": false,
              "GENERATE_DEX_METADATA": false,
              "HTML_TABLE_SCHEMA": false,
              "LOG_LEVEL": 30,
              "MAX_RENDER_SIZE_BYTES": 104857600,
              "MAX_STRING_LENGTH": 250,
              "NUM_PAST_SAMPLES_TRACKED": 3,
              "RANDOM_STATE": 12648430,
              "RESET_INDEX_VALUES": false,
              "ROW_SAMPLING_METHOD": "random",
              "SAMPLING_FACTOR": 0.1,
              "SAMPLING_METHOD": "random",
              "STRINGIFY_COLUMN_VALUES": true,
              "STRINGIFY_INDEX_VALUES": false
            },
            "sample_history": [],
            "sampling_time": "2023-06-14T19:35:28.453127",
            "user_variable_name": null,
            "variable_name": "unk_dataframe_911199b9a6734f5a815af7bb7c435656"
          }
        },
        "noteable": {
          "cell_type": "code",
          "output_collection_id": "aa5df619-9348-4bdb-8ffb-d8d0c5de08d8"
        }
      },
      "outputs": [
        {
          "data": {
            "text/html": [
              "<div>\n",
              "<style scoped>\n",
              "    .dataframe tbody tr th:only-of-type {\n",
              "        vertical-align: middle;\n",
              "    }\n",
              "\n",
              "    .dataframe tbody tr th {\n",
              "        vertical-align: top;\n",
              "    }\n",
              "\n",
              "    .dataframe thead th {\n",
              "        text-align: right;\n",
              "    }\n",
              "</style>\n",
              "<table border=\"1\" class=\"dataframe\">\n",
              "  <thead>\n",
              "    <tr style=\"text-align: right;\">\n",
              "      <th></th>\n",
              "      <th>GeoAreaCode</th>\n",
              "      <th>GeoAreaName</th>\n",
              "      <th>Unnamed: 2</th>\n",
              "      <th>Unnamed: 3</th>\n",
              "      <th>Source</th>\n",
              "      <th>1990</th>\n",
              "      <th>1991</th>\n",
              "      <th>1992</th>\n",
              "      <th>1993</th>\n",
              "      <th>1994</th>\n",
              "      <th>...</th>\n",
              "      <th>2012</th>\n",
              "      <th>2013</th>\n",
              "      <th>2014</th>\n",
              "      <th>2015</th>\n",
              "      <th>2016</th>\n",
              "      <th>2017</th>\n",
              "      <th>2018</th>\n",
              "      <th>2019</th>\n",
              "      <th>2020</th>\n",
              "      <th>2021</th>\n",
              "    </tr>\n",
              "  </thead>\n",
              "  <tbody>\n",
              "    <tr>\n",
              "      <th>0</th>\n",
              "      <td>4</td>\n",
              "      <td>Afghanistan</td>\n",
              "      <td>Total final energy consumption (PJ)</td>\n",
              "      <td>Total                                         ...</td>\n",
              "      <td>Energy Balances, UN Statistics Division (2022)</td>\n",
              "      <td>32.7</td>\n",
              "      <td>31.4</td>\n",
              "      <td>27.2</td>\n",
              "      <td>27.5</td>\n",
              "      <td>27.6</td>\n",
              "      <td>...</td>\n",
              "      <td>154.2</td>\n",
              "      <td>143.8</td>\n",
              "      <td>143.4</td>\n",
              "      <td>157.5</td>\n",
              "      <td>148.4</td>\n",
              "      <td>158.2</td>\n",
              "      <td>170.2</td>\n",
              "      <td>174.6</td>\n",
              "      <td>183.9</td>\n",
              "      <td>193.2</td>\n",
              "    </tr>\n",
              "    <tr>\n",
              "      <th>1</th>\n",
              "      <td>4</td>\n",
              "      <td>Afghanistan</td>\n",
              "      <td>Share in total final energy consumption (%)</td>\n",
              "      <td>Renewables                                    ...</td>\n",
              "      <td>Energy Balances, UN Statistics Division (2022)</td>\n",
              "      <td>23</td>\n",
              "      <td>23.7</td>\n",
              "      <td>27.4</td>\n",
              "      <td>28.5</td>\n",
              "      <td>30.1</td>\n",
              "      <td>...</td>\n",
              "      <td>15.4</td>\n",
              "      <td>16.9</td>\n",
              "      <td>18.9</td>\n",
              "      <td>17.5</td>\n",
              "      <td>19.9</td>\n",
              "      <td>19.2</td>\n",
              "      <td>18</td>\n",
              "      <td>18.5</td>\n",
              "      <td>17.6</td>\n",
              "      <td>17.9</td>\n",
              "    </tr>\n",
              "    <tr>\n",
              "      <th>2</th>\n",
              "      <td>4</td>\n",
              "      <td>Afghanistan</td>\n",
              "      <td>Share in total final energy consumption (%)</td>\n",
              "      <td>Modern renewables                             ...</td>\n",
              "      <td>Energy Balances, UN Statistics Division (2022)</td>\n",
              "      <td>6.7</td>\n",
              "      <td>6.2</td>\n",
              "      <td>5.9</td>\n",
              "      <td>5.8</td>\n",
              "      <td>5.7</td>\n",
              "      <td>...</td>\n",
              "      <td>7.3</td>\n",
              "      <td>8.1</td>\n",
              "      <td>10</td>\n",
              "      <td>9.2</td>\n",
              "      <td>11</td>\n",
              "      <td>10.7</td>\n",
              "      <td>9.9</td>\n",
              "      <td>10.5</td>\n",
              "      <td>10.2</td>\n",
              "      <td>10.7</td>\n",
              "    </tr>\n",
              "    <tr>\n",
              "      <th>3</th>\n",
              "      <td>4</td>\n",
              "      <td>Afghanistan</td>\n",
              "      <td>Share in total final energy consumption (%)</td>\n",
              "      <td>Municipal waste (renew)                       ...</td>\n",
              "      <td>Energy Balances, UN Statistics Division (2022)</td>\n",
              "      <td>0</td>\n",
              "      <td>0</td>\n",
              "      <td>0</td>\n",
              "      <td>0</td>\n",
              "      <td>0</td>\n",
              "      <td>...</td>\n",
              "      <td>0</td>\n",
              "      <td>0</td>\n",
              "      <td>0</td>\n",
              "      <td>0</td>\n",
              "      <td>0</td>\n",
              "      <td>0</td>\n",
              "      <td>0</td>\n",
              "      <td>0</td>\n",
              "      <td>0</td>\n",
              "      <td>0</td>\n",
              "    </tr>\n",
              "    <tr>\n",
              "      <th>4</th>\n",
              "      <td>4</td>\n",
              "      <td>Afghanistan</td>\n",
              "      <td>Share in total final energy consumption (%)</td>\n",
              "      <td>Liquid biofuels                               ...</td>\n",
              "      <td>Energy Balances, UN Statistics Division (2022)</td>\n",
              "      <td>0</td>\n",
              "      <td>0</td>\n",
              "      <td>0</td>\n",
              "      <td>0</td>\n",
              "      <td>0</td>\n",
              "      <td>...</td>\n",
              "      <td>0</td>\n",
              "      <td>0</td>\n",
              "      <td>0</td>\n",
              "      <td>0</td>\n",
              "      <td>0</td>\n",
              "      <td>0</td>\n",
              "      <td>0</td>\n",
              "      <td>0</td>\n",
              "      <td>0</td>\n",
              "      <td>0</td>\n",
              "    </tr>\n",
              "    <tr>\n",
              "      <th>5</th>\n",
              "      <td>4</td>\n",
              "      <td>Afghanistan</td>\n",
              "      <td>Share in total final energy consumption (%)</td>\n",
              "      <td>Solid biofuels                                ...</td>\n",
              "      <td>Energy Balances, UN Statistics Division (2022)</td>\n",
              "      <td>16.3</td>\n",
              "      <td>17.5</td>\n",
              "      <td>21.4</td>\n",
              "      <td>22.7</td>\n",
              "      <td>24.4</td>\n",
              "      <td>...</td>\n",
              "      <td>8.1</td>\n",
              "      <td>8.8</td>\n",
              "      <td>9</td>\n",
              "      <td>8.3</td>\n",
              "      <td>9</td>\n",
              "      <td>8.5</td>\n",
              "      <td>8.1</td>\n",
              "      <td>8</td>\n",
              "      <td>7.4</td>\n",
              "      <td>7.1</td>\n",
              "    </tr>\n",
              "    <tr>\n",
              "      <th>6</th>\n",
              "      <td>4</td>\n",
              "      <td>Afghanistan</td>\n",
              "      <td>Share in total final energy consumption (%)</td>\n",
              "      <td>Biogases                                      ...</td>\n",
              "      <td>Energy Balances, UN Statistics Division (2022)</td>\n",
              "      <td>0</td>\n",
              "      <td>0</td>\n",
              "      <td>0</td>\n",
              "      <td>0</td>\n",
              "      <td>0</td>\n",
              "      <td>...</td>\n",
              "      <td>0</td>\n",
              "      <td>0</td>\n",
              "      <td>0</td>\n",
              "      <td>0</td>\n",
              "      <td>0</td>\n",
              "      <td>0</td>\n",
              "      <td>0</td>\n",
              "      <td>0</td>\n",
              "      <td>0</td>\n",
              "      <td>0</td>\n",
              "    </tr>\n",
              "    <tr>\n",
              "      <th>7</th>\n",
              "      <td>4</td>\n",
              "      <td>Afghanistan</td>\n",
              "      <td>Share in total final energy consumption (%)</td>\n",
              "      <td>Hydro                                         ...</td>\n",
              "      <td>Energy Balances, UN Statistics Division (2022)</td>\n",
              "      <td>6.7</td>\n",
              "      <td>6.2</td>\n",
              "      <td>5.9</td>\n",
              "      <td>5.8</td>\n",
              "      <td>5.7</td>\n",
              "      <td>...</td>\n",
              "      <td>7.3</td>\n",
              "      <td>8.1</td>\n",
              "      <td>10</td>\n",
              "      <td>9.2</td>\n",
              "      <td>11</td>\n",
              "      <td>10.7</td>\n",
              "      <td>9.9</td>\n",
              "      <td>10.4</td>\n",
              "      <td>10</td>\n",
              "      <td>10.5</td>\n",
              "    </tr>\n",
              "    <tr>\n",
              "      <th>8</th>\n",
              "      <td>4</td>\n",
              "      <td>Afghanistan</td>\n",
              "      <td>Share in total final energy consumption (%)</td>\n",
              "      <td>Geothermal                                    ...</td>\n",
              "      <td>Energy Balances, UN Statistics Division (2022)</td>\n",
              "      <td>0</td>\n",
              "      <td>0</td>\n",
              "      <td>0</td>\n",
              "      <td>0</td>\n",
              "      <td>0</td>\n",
              "      <td>...</td>\n",
              "      <td>0</td>\n",
              "      <td>0</td>\n",
              "      <td>0</td>\n",
              "      <td>0</td>\n",
              "      <td>0</td>\n",
              "      <td>0</td>\n",
              "      <td>0</td>\n",
              "      <td>0</td>\n",
              "      <td>0</td>\n",
              "      <td>0</td>\n",
              "    </tr>\n",
              "    <tr>\n",
              "      <th>9</th>\n",
              "      <td>4</td>\n",
              "      <td>Afghanistan</td>\n",
              "      <td>Share in total final energy consumption (%)</td>\n",
              "      <td>Tide, wave and ocean                          ...</td>\n",
              "      <td>Energy Balances, UN Statistics Division (2022)</td>\n",
              "      <td>0</td>\n",
              "      <td>0</td>\n",
              "      <td>0</td>\n",
              "      <td>0</td>\n",
              "      <td>0</td>\n",
              "      <td>...</td>\n",
              "      <td>0</td>\n",
              "      <td>0</td>\n",
              "      <td>0</td>\n",
              "      <td>0</td>\n",
              "      <td>0</td>\n",
              "      <td>0</td>\n",
              "      <td>0</td>\n",
              "      <td>0</td>\n",
              "      <td>0</td>\n",
              "      <td>0</td>\n",
              "    </tr>\n",
              "  </tbody>\n",
              "</table>\n",
              "<p>10 rows × 37 columns</p>\n",
              "</div>"
            ],
            "text/plain": [
              "   GeoAreaCode  GeoAreaName                                   Unnamed: 2  \\\n",
              "0            4  Afghanistan          Total final energy consumption (PJ)   \n",
              "1            4  Afghanistan  Share in total final energy consumption (%)   \n",
              "2            4  Afghanistan  Share in total final energy consumption (%)   \n",
              "3            4  Afghanistan  Share in total final energy consumption (%)   \n",
              "4            4  Afghanistan  Share in total final energy consumption (%)   \n",
              "5            4  Afghanistan  Share in total final energy consumption (%)   \n",
              "6            4  Afghanistan  Share in total final energy consumption (%)   \n",
              "7            4  Afghanistan  Share in total final energy consumption (%)   \n",
              "8            4  Afghanistan  Share in total final energy consumption (%)   \n",
              "9            4  Afghanistan  Share in total final energy consumption (%)   \n",
              "\n",
              "                                          Unnamed: 3  \\\n",
              "0  Total                                         ...   \n",
              "1  Renewables                                    ...   \n",
              "2  Modern renewables                             ...   \n",
              "3  Municipal waste (renew)                       ...   \n",
              "4  Liquid biofuels                               ...   \n",
              "5  Solid biofuels                                ...   \n",
              "6  Biogases                                      ...   \n",
              "7  Hydro                                         ...   \n",
              "8  Geothermal                                    ...   \n",
              "9  Tide, wave and ocean                          ...   \n",
              "\n",
              "                                           Source  1990  1991  1992  1993  \\\n",
              "0  Energy Balances, UN Statistics Division (2022)  32.7  31.4  27.2  27.5   \n",
              "1  Energy Balances, UN Statistics Division (2022)    23  23.7  27.4  28.5   \n",
              "2  Energy Balances, UN Statistics Division (2022)   6.7   6.2   5.9   5.8   \n",
              "3  Energy Balances, UN Statistics Division (2022)     0     0     0     0   \n",
              "4  Energy Balances, UN Statistics Division (2022)     0     0     0     0   \n",
              "5  Energy Balances, UN Statistics Division (2022)  16.3  17.5  21.4  22.7   \n",
              "6  Energy Balances, UN Statistics Division (2022)     0     0     0     0   \n",
              "7  Energy Balances, UN Statistics Division (2022)   6.7   6.2   5.9   5.8   \n",
              "8  Energy Balances, UN Statistics Division (2022)     0     0     0     0   \n",
              "9  Energy Balances, UN Statistics Division (2022)     0     0     0     0   \n",
              "\n",
              "   1994  ...   2012   2013   2014   2015   2016   2017   2018   2019   2020  \\\n",
              "0  27.6  ...  154.2  143.8  143.4  157.5  148.4  158.2  170.2  174.6  183.9   \n",
              "1  30.1  ...   15.4   16.9   18.9   17.5   19.9   19.2     18   18.5   17.6   \n",
              "2   5.7  ...    7.3    8.1     10    9.2     11   10.7    9.9   10.5   10.2   \n",
              "3     0  ...      0      0      0      0      0      0      0      0      0   \n",
              "4     0  ...      0      0      0      0      0      0      0      0      0   \n",
              "5  24.4  ...    8.1    8.8      9    8.3      9    8.5    8.1      8    7.4   \n",
              "6     0  ...      0      0      0      0      0      0      0      0      0   \n",
              "7   5.7  ...    7.3    8.1     10    9.2     11   10.7    9.9   10.4     10   \n",
              "8     0  ...      0      0      0      0      0      0      0      0      0   \n",
              "9     0  ...      0      0      0      0      0      0      0      0      0   \n",
              "\n",
              "    2021  \n",
              "0  193.2  \n",
              "1   17.9  \n",
              "2   10.7  \n",
              "3      0  \n",
              "4      0  \n",
              "5    7.1  \n",
              "6      0  \n",
              "7   10.5  \n",
              "8      0  \n",
              "9      0  \n",
              "\n",
              "[10 rows x 37 columns]"
            ]
          },
          "execution_count": 2,
          "metadata": {},
          "output_type": "execute_result"
        }
      ],
      "source": [
        "import pandas as pd\n",
        "\n",
        "# Load the dataset\n",
        "data = pd.read_csv('./WORKING_SET_RAW.csv')\n",
        "\n",
        "# Display the first few rows of the DataFrame\n",
        "data.head(10)"
      ]
    },
    {
      "cell_type": "code",
      "execution_count": null,
      "id": "cf04ebc7-67dd-44fe-b420-f9e3d36be023",
      "metadata": {
        "ExecuteTime": {
          "end_time": "2023-06-14T19:53:38.464165+00:00",
          "start_time": "2023-06-14T19:53:38.086925+00:00"
        },
        "datalink": {
          "05aa5f06-04d3-47d0-93f7-0f4354e1c5d4": {
            "applied_filters": [],
            "dataframe_info": {
              "default_index_used": true,
              "orig_num_cols": 37,
              "orig_num_rows": 5,
              "orig_size_bytes": 1520,
              "truncated_num_cols": 37,
              "truncated_num_rows": 5,
              "truncated_size_bytes": 1520,
              "truncated_string_columns": []
            },
            "display_id": "05aa5f06-04d3-47d0-93f7-0f4354e1c5d4",
            "dx_settings": {
              "ALLOW_NOTEABLE_ATTRS": true,
              "COLUMN_SAMPLING_METHOD": "outer",
              "DB_LOCATION": ":memory:",
              "DEV_MODE": false,
              "DISPLAY_MAX_COLUMNS": 100,
              "DISPLAY_MAX_ROWS": 50000,
              "DISPLAY_MODE": "simple",
              "ENABLE_ASSIGNMENT": true,
              "ENABLE_DATALINK": true,
              "FLATTEN_COLUMN_VALUES": true,
              "FLATTEN_INDEX_VALUES": false,
              "GENERATE_DEX_METADATA": false,
              "HTML_TABLE_SCHEMA": false,
              "LOG_LEVEL": 30,
              "MAX_RENDER_SIZE_BYTES": 104857600,
              "MAX_STRING_LENGTH": 250,
              "NUM_PAST_SAMPLES_TRACKED": 3,
              "RANDOM_STATE": 12648430,
              "RESET_INDEX_VALUES": false,
              "ROW_SAMPLING_METHOD": "random",
              "SAMPLING_FACTOR": 0.1,
              "SAMPLING_METHOD": "random",
              "STRINGIFY_COLUMN_VALUES": true,
              "STRINGIFY_INDEX_VALUES": false
            },
            "sample_history": [],
            "sampling_time": "2023-06-14T19:36:51.676082",
            "user_variable_name": null,
            "variable_name": "unk_dataframe_944729322f6247ec813af99fc00561c6"
          },
          "a148a170-30ab-42a8-bcd6-b5f27e0e3366": {
            "applied_filters": [],
            "dataframe_info": {
              "default_index_used": true,
              "orig_num_cols": 37,
              "orig_num_rows": 50,
              "orig_size_bytes": 15200,
              "truncated_num_cols": 37,
              "truncated_num_rows": 50,
              "truncated_size_bytes": 15200,
              "truncated_string_columns": []
            },
            "display_id": "a148a170-30ab-42a8-bcd6-b5f27e0e3366",
            "dx_settings": {
              "ALLOW_NOTEABLE_ATTRS": true,
              "COLUMN_SAMPLING_METHOD": "outer",
              "DB_LOCATION": ":memory:",
              "DEV_MODE": false,
              "DISPLAY_MAX_COLUMNS": 100,
              "DISPLAY_MAX_ROWS": 50000,
              "DISPLAY_MODE": "simple",
              "ENABLE_ASSIGNMENT": true,
              "ENABLE_DATALINK": true,
              "FLATTEN_COLUMN_VALUES": true,
              "FLATTEN_INDEX_VALUES": false,
              "GENERATE_DEX_METADATA": false,
              "HTML_TABLE_SCHEMA": false,
              "LOG_LEVEL": 30,
              "MAX_RENDER_SIZE_BYTES": 104857600,
              "MAX_STRING_LENGTH": 250,
              "NUM_PAST_SAMPLES_TRACKED": 3,
              "RANDOM_STATE": 12648430,
              "RESET_INDEX_VALUES": false,
              "ROW_SAMPLING_METHOD": "random",
              "SAMPLING_FACTOR": 0.1,
              "SAMPLING_METHOD": "random",
              "STRINGIFY_COLUMN_VALUES": true,
              "STRINGIFY_INDEX_VALUES": false
            },
            "sample_history": [],
            "sampling_time": "2023-06-14T19:53:38.300713",
            "user_variable_name": null,
            "variable_name": "unk_dataframe_27bd40e322d84495b933b34cbda12ba9"
          }
        },
        "noteable": {
          "cell_type": "code",
          "output_collection_id": "920e7e1f-2770-4710-bbd2-b6fd25735342"
        }
      },
      "outputs": [],
      "source": [
        "# Rename the columns\n",
        "data.rename(columns={\n",
        "    'GeoAreaCode': 'Country Code',\n",
        "    'GeoAreaName': 'Country Name',\n",
        "    'Unnamed: 2': 'Kind of Statistic',\n",
        "    'Unnamed: 3': 'Kind of Energy',\n",
        "    'Source': 'Data Source'\n",
        "}, inplace=True)\n",
        "\n",
        "# Convert the data types\n",
        "data['Country Code'] = data['Country Code'].astype(int)\n",
        "for year in range(1990, 2022):\n",
        "    data[str(year)] = pd.to_numeric(data[str(year)], errors='coerce')\n",
        "\n",
        "# Display the first few rows of the DataFrame\n",
        "data.head(50)"
      ]
    },
    {
      "cell_type": "code",
      "execution_count": null,
      "id": "e5f3ef55-3ef4-4d63-a824-fdcce08f7fe6",
      "metadata": {
        "ExecuteTime": {
          "end_time": "2023-06-14T19:37:53.491263+00:00",
          "start_time": "2023-06-14T19:37:53.298926+00:00"
        },
        "datalink": {
          "b1a90b4a-4727-496d-a3d3-b1f187e3de4d": {
            "applied_filters": [],
            "dataframe_info": {
              "default_index_used": false,
              "orig_num_cols": 1,
              "orig_num_rows": 37,
              "orig_size_bytes": 592,
              "truncated_num_cols": 1,
              "truncated_num_rows": 37,
              "truncated_size_bytes": 592,
              "truncated_string_columns": []
            },
            "display_id": "b1a90b4a-4727-496d-a3d3-b1f187e3de4d",
            "dx_settings": {
              "ALLOW_NOTEABLE_ATTRS": true,
              "COLUMN_SAMPLING_METHOD": "outer",
              "DB_LOCATION": ":memory:",
              "DEV_MODE": false,
              "DISPLAY_MAX_COLUMNS": 100,
              "DISPLAY_MAX_ROWS": 50000,
              "DISPLAY_MODE": "simple",
              "ENABLE_ASSIGNMENT": true,
              "ENABLE_DATALINK": true,
              "FLATTEN_COLUMN_VALUES": true,
              "FLATTEN_INDEX_VALUES": false,
              "GENERATE_DEX_METADATA": false,
              "HTML_TABLE_SCHEMA": false,
              "LOG_LEVEL": 30,
              "MAX_RENDER_SIZE_BYTES": 104857600,
              "MAX_STRING_LENGTH": 250,
              "NUM_PAST_SAMPLES_TRACKED": 3,
              "RANDOM_STATE": 12648430,
              "RESET_INDEX_VALUES": false,
              "ROW_SAMPLING_METHOD": "random",
              "SAMPLING_FACTOR": 0.1,
              "SAMPLING_METHOD": "random",
              "STRINGIFY_COLUMN_VALUES": true,
              "STRINGIFY_INDEX_VALUES": false
            },
            "sample_history": [],
            "sampling_time": "2023-06-14T19:37:53.335722",
            "user_variable_name": null,
            "variable_name": "unk_dataframe_94c143dfb76b42a688e8c7148ba122b6"
          }
        },
        "noteable": {
          "cell_type": "code",
          "output_collection_id": "c144dcaa-72cb-43b2-a3a5-8ce08ea21938"
        }
      },
      "outputs": [],
      "source": [
        "# Check for missing values\n",
        "data.isnull().sum()"
      ]
    },
    {
      "cell_type": "code",
      "execution_count": null,
      "id": "27412f5b-df52-4f9e-87e4-4a546dff693b",
      "metadata": {
        "ExecuteTime": {
          "end_time": "2023-06-14T20:00:18.244995+00:00",
          "start_time": "2023-06-14T20:00:18.050039+00:00"
        },
        "noteable": {
          "cell_type": "code",
          "output_collection_id": "ec200b04-6a29-4ac4-af96-d4f7dfcfed48"
        }
      },
      "outputs": [],
      "source": [
        "# Create a DataFrame for each table\n",
        "country_df = data[['Country Code', 'Country Name']]\n",
        "energy_type_df = data[['Kind of Statistic', 'Kind of Energy']]\n",
        "data_source_df = data[['Data Source']]\n",
        "\n",
        "# Save each DataFrame to a CSV file\n",
        "country_df.to_csv('\\country.csv', index=False)\n",
        "energy_type_df.to_csv('\\energy_type.csv', index=False)\n",
        "data_source_df.to_csv('\\data_source.csv', index=False)"
      ]
    },
    {
      "cell_type": "code",
      "execution_count": null,
      "id": "c3001d93-7fec-4bd7-9a27-537a3752d746",
      "metadata": {
        "jupyter": {
          "outputs_hidden": false,
          "source_hidden": false
        },
        "noteable": {
          "cell_type": "code"
        }
      },
      "outputs": [],
      "source": []
    },
    {
      "cell_type": "code",
      "execution_count": null,
      "id": "0e1ef563-0e93-4574-a3c1-6b10bd932034",
      "metadata": {
        "ExecuteTime": {
          "end_time": "2023-06-15T16:42:09.696087+00:00",
          "start_time": "2023-06-15T16:42:09.517472+00:00"
        },
        "noteable": {
          "cell_type": "code",
          "output_collection_id": "22d93e8d-901a-4b12-ae44-315629e7587f"
        }
      },
      "outputs": [],
      "source": [
        "# Filter the data for 'Modern renewables'\n",
        "modern_renewables_df = data[data['Kind of Energy'] == 'Modern renewables']\n",
        "\n",
        "# Melt the DataFrame to reshape it\n",
        "modern_renewables_df = modern_renewables_df.melt(id_vars=['Country Name', 'Data Source'],\n",
        "                                                var_name='Year',\n",
        "                                                value_name='Value',\n",
        "                                                value_vars=[str(year) for year in range(1990, 2022)])\n",
        "\n",
        "# Save the DataFrame to a CSV file\n",
        "modern_renewables_df.to_csv('/tmp/modern_renewables.csv', index=False)"
      ]
    },
    {
      "cell_type": "code",
      "execution_count": null,
      "id": "ad1d1b3c-d068-4808-9f18-a4966673ac05",
      "metadata": {
        "ExecuteTime": {
          "end_time": "2023-06-15T16:43:23.981028+00:00",
          "start_time": "2023-06-15T16:43:23.595098+00:00"
        },
        "noteable": {
          "cell_type": "code",
          "output_collection_id": "f6431e27-802c-44c8-8bd2-49cd8e7c92f4"
        }
      },
      "outputs": [],
      "source": [
        "# Load the data\n",
        "data = pd.read_csv('https://github.com/Pmalik24/CS5200_Project/raw/main/working%20set%20csv.csv')\n",
        "\n",
        "# Rename the columns\n",
        "data.rename(columns={\n",
        "    'GeoAreaCode': 'Country Code',\n",
        "    'GeoAreaName': 'Country Name',\n",
        "    'Unnamed: 2': 'Kind of Statistic',\n",
        "    'Unnamed: 3': 'Kind of Energy',\n",
        "    'Source': 'Data Source'\n",
        "}, inplace=True)\n",
        "\n",
        "# Convert the data types\n",
        "data['Country Code'] = data['Country Code'].astype(int)\n",
        "for year in range(1990, 2022):\n",
        "    data[str(year)] = pd.to_numeric(data[str(year)], errors='coerce')"
      ]
    },
    {
      "cell_type": "code",
      "execution_count": null,
      "id": "a78016a0-534f-4dfc-bf97-8a9d045d4944",
      "metadata": {
        "ExecuteTime": null,
        "noteable": {
          "cell_type": "code",
          "output_collection_id": "c908ca96-6fc0-4098-85c3-9ca97edafe0a"
        }
      },
      "outputs": [],
      "source": [
        "# Filter the data for 'Modern renewables'\n",
        "modern_renewables_df = data[data['Kind of Energy'] == 'Modern renewables']\n",
        "\n",
        "# Melt the DataFrame to reshape it\n",
        "modern_renewables_df = modern_renewables_df.melt(id_vars=['Country Name', 'Data Source'],\n",
        "                                                var_name='Year',\n",
        "                                                value_name='Value',\n",
        "                                                value_vars=[str(year) for year in range(1990, 2022)])\n",
        "\n",
        "# Save the DataFrame to a CSV file\n",
        "modern_renewables_df.to_csv('modern_renewables.csv', index=False)"
      ]
    },
    {
      "cell_type": "code",
      "execution_count": null,
      "id": "2fa97e6e-8e7f-43a7-802e-295e74b1a53b",
      "metadata": {
        "ExecuteTime": {
          "end_time": "2023-06-15T16:47:31.300447+00:00",
          "start_time": "2023-06-15T16:47:31.097341+00:00"
        },
        "datalink": {
          "6f514303-40f6-4de4-9083-5867b96aad08": {
            "applied_filters": [],
            "dataframe_info": {
              "default_index_used": true,
              "orig_num_cols": 4,
              "orig_num_rows": 0,
              "orig_size_bytes": 0,
              "truncated_num_cols": 4,
              "truncated_num_rows": 0,
              "truncated_size_bytes": 0,
              "truncated_string_columns": []
            },
            "display_id": "6f514303-40f6-4de4-9083-5867b96aad08",
            "dx_settings": {
              "ALLOW_NOTEABLE_ATTRS": true,
              "COLUMN_SAMPLING_METHOD": "outer",
              "DB_LOCATION": ":memory:",
              "DEV_MODE": false,
              "DISPLAY_MAX_COLUMNS": 100,
              "DISPLAY_MAX_ROWS": 50000,
              "DISPLAY_MODE": "simple",
              "ENABLE_ASSIGNMENT": true,
              "ENABLE_DATALINK": true,
              "FLATTEN_COLUMN_VALUES": true,
              "FLATTEN_INDEX_VALUES": false,
              "GENERATE_DEX_METADATA": false,
              "HTML_TABLE_SCHEMA": false,
              "LOG_LEVEL": 30,
              "MAX_RENDER_SIZE_BYTES": 104857600,
              "MAX_STRING_LENGTH": 250,
              "NUM_PAST_SAMPLES_TRACKED": 3,
              "RANDOM_STATE": 12648430,
              "RESET_INDEX_VALUES": false,
              "ROW_SAMPLING_METHOD": "random",
              "SAMPLING_FACTOR": 0.1,
              "SAMPLING_METHOD": "random",
              "STRINGIFY_COLUMN_VALUES": true,
              "STRINGIFY_INDEX_VALUES": false
            },
            "sample_history": [],
            "sampling_time": "2023-06-15T16:47:15.539402",
            "user_variable_name": "modern_renewables_df",
            "variable_name": "modern_renewables_df"
          },
          "e65debb5-af11-4dd4-bf94-74330fa2e74d": {
            "applied_filters": [],
            "dataframe_info": {
              "default_index_used": true,
              "orig_num_cols": 4,
              "orig_num_rows": 0,
              "orig_size_bytes": 0,
              "truncated_num_cols": 4,
              "truncated_num_rows": 0,
              "truncated_size_bytes": 0,
              "truncated_string_columns": []
            },
            "display_id": "e65debb5-af11-4dd4-bf94-74330fa2e74d",
            "dx_settings": {
              "ALLOW_NOTEABLE_ATTRS": true,
              "COLUMN_SAMPLING_METHOD": "outer",
              "DB_LOCATION": ":memory:",
              "DEV_MODE": false,
              "DISPLAY_MAX_COLUMNS": 100,
              "DISPLAY_MAX_ROWS": 50000,
              "DISPLAY_MODE": "simple",
              "ENABLE_ASSIGNMENT": true,
              "ENABLE_DATALINK": true,
              "FLATTEN_COLUMN_VALUES": true,
              "FLATTEN_INDEX_VALUES": false,
              "GENERATE_DEX_METADATA": false,
              "HTML_TABLE_SCHEMA": false,
              "LOG_LEVEL": 30,
              "MAX_RENDER_SIZE_BYTES": 104857600,
              "MAX_STRING_LENGTH": 250,
              "NUM_PAST_SAMPLES_TRACKED": 3,
              "RANDOM_STATE": 12648430,
              "RESET_INDEX_VALUES": false,
              "ROW_SAMPLING_METHOD": "random",
              "SAMPLING_FACTOR": 0.1,
              "SAMPLING_METHOD": "random",
              "STRINGIFY_COLUMN_VALUES": true,
              "STRINGIFY_INDEX_VALUES": false
            },
            "sample_history": [],
            "sampling_time": "2023-06-15T16:47:31.143002",
            "user_variable_name": "modern_renewables_df",
            "variable_name": "modern_renewables_df"
          }
        },
        "noteable": {
          "cell_type": "code",
          "output_collection_id": "321c14c2-2218-433b-9df9-9fd549753b82"
        }
      },
      "outputs": [],
      "source": [
        "# Display the first few rows of the DataFrame\n",
        "modern_renewables_df.head()"
      ]
    },
    {
      "cell_type": "code",
      "execution_count": null,
      "id": "23e7b1f8-efab-427d-b039-6923453516bd",
      "metadata": {
        "ExecuteTime": {
          "end_time": "2023-06-15T16:48:11.000228+00:00",
          "start_time": "2023-06-15T16:48:10.789107+00:00"
        },
        "datalink": {
          "519a6040-5886-4eed-97a0-ec6e656294de": {
            "applied_filters": [],
            "dataframe_info": {
              "default_index_used": true,
              "orig_num_cols": 4,
              "orig_num_rows": 0,
              "orig_size_bytes": 0,
              "truncated_num_cols": 4,
              "truncated_num_rows": 0,
              "truncated_size_bytes": 0,
              "truncated_string_columns": []
            },
            "display_id": "519a6040-5886-4eed-97a0-ec6e656294de",
            "dx_settings": {
              "ALLOW_NOTEABLE_ATTRS": true,
              "COLUMN_SAMPLING_METHOD": "outer",
              "DB_LOCATION": ":memory:",
              "DEV_MODE": false,
              "DISPLAY_MAX_COLUMNS": 100,
              "DISPLAY_MAX_ROWS": 50000,
              "DISPLAY_MODE": "simple",
              "ENABLE_ASSIGNMENT": true,
              "ENABLE_DATALINK": true,
              "FLATTEN_COLUMN_VALUES": true,
              "FLATTEN_INDEX_VALUES": false,
              "GENERATE_DEX_METADATA": false,
              "HTML_TABLE_SCHEMA": false,
              "LOG_LEVEL": 30,
              "MAX_RENDER_SIZE_BYTES": 104857600,
              "MAX_STRING_LENGTH": 250,
              "NUM_PAST_SAMPLES_TRACKED": 3,
              "RANDOM_STATE": 12648430,
              "RESET_INDEX_VALUES": false,
              "ROW_SAMPLING_METHOD": "random",
              "SAMPLING_FACTOR": 0.1,
              "SAMPLING_METHOD": "random",
              "STRINGIFY_COLUMN_VALUES": true,
              "STRINGIFY_INDEX_VALUES": false
            },
            "sample_history": [],
            "sampling_time": "2023-06-15T16:47:55.461443",
            "user_variable_name": "modern_renewables_df",
            "variable_name": "modern_renewables_df"
          },
          "837a753a-d83a-4138-9e4a-d7e231be473a": {
            "applied_filters": [],
            "dataframe_info": {
              "default_index_used": true,
              "orig_num_cols": 4,
              "orig_num_rows": 0,
              "orig_size_bytes": 0,
              "truncated_num_cols": 4,
              "truncated_num_rows": 0,
              "truncated_size_bytes": 0,
              "truncated_string_columns": []
            },
            "display_id": "837a753a-d83a-4138-9e4a-d7e231be473a",
            "dx_settings": {
              "ALLOW_NOTEABLE_ATTRS": true,
              "COLUMN_SAMPLING_METHOD": "outer",
              "DB_LOCATION": ":memory:",
              "DEV_MODE": false,
              "DISPLAY_MAX_COLUMNS": 100,
              "DISPLAY_MAX_ROWS": 50000,
              "DISPLAY_MODE": "simple",
              "ENABLE_ASSIGNMENT": true,
              "ENABLE_DATALINK": true,
              "FLATTEN_COLUMN_VALUES": true,
              "FLATTEN_INDEX_VALUES": false,
              "GENERATE_DEX_METADATA": false,
              "HTML_TABLE_SCHEMA": false,
              "LOG_LEVEL": 30,
              "MAX_RENDER_SIZE_BYTES": 104857600,
              "MAX_STRING_LENGTH": 250,
              "NUM_PAST_SAMPLES_TRACKED": 3,
              "RANDOM_STATE": 12648430,
              "RESET_INDEX_VALUES": false,
              "ROW_SAMPLING_METHOD": "random",
              "SAMPLING_FACTOR": 0.1,
              "SAMPLING_METHOD": "random",
              "STRINGIFY_COLUMN_VALUES": true,
              "STRINGIFY_INDEX_VALUES": false
            },
            "sample_history": [],
            "sampling_time": "2023-06-15T16:48:10.842344",
            "user_variable_name": "modern_renewables_df",
            "variable_name": "modern_renewables_df"
          }
        },
        "noteable": {
          "cell_type": "code",
          "output_collection_id": "484f165a-0855-40fd-9758-23ce1c68fe85"
        }
      },
      "outputs": [],
      "source": [
        "# Display the first few rows of the DataFrame\n",
        "modern_renewables_df.head()"
      ]
    },
    {
      "cell_type": "code",
      "execution_count": null,
      "id": "fa8de1e0-a90f-4f0b-a8a1-a5391254a0ea",
      "metadata": {
        "ExecuteTime": {
          "end_time": "2023-06-15T16:48:58.351933+00:00",
          "start_time": "2023-06-15T16:48:58.187528+00:00"
        },
        "noteable": {
          "cell_type": "code",
          "output_collection_id": "e4575eb5-5e73-47d3-894c-eae86ff09d8f"
        }
      },
      "outputs": [],
      "source": [
        "# Display the unique values in the 'Kind of Energy' column\n",
        "data['Kind of Energy'].unique()"
      ]
    },
    {
      "cell_type": "code",
      "execution_count": null,
      "id": "b04abe8a-acb0-4c89-9a1a-566849fb50f2",
      "metadata": {
        "ExecuteTime": {
          "end_time": "2023-06-15T16:49:54.217282+00:00",
          "start_time": "2023-06-15T16:49:54.006867+00:00"
        },
        "noteable": {
          "cell_type": "code",
          "output_collection_id": "e5599187-7311-440c-86a9-e70d2ac65db6"
        }
      },
      "outputs": [],
      "source": [
        "# Strip trailing spaces from 'Kind of Energy' column\n",
        "data['Kind of Energy'] = data['Kind of Energy'].str.strip()\n",
        "\n",
        "# Create a DataFrame for 'Modern renewables'\n",
        "modern_renewables_df = data[data['Kind of Energy'] == 'Modern renewables']\n",
        "modern_renewables_df = modern_renewables_df.melt(id_vars=['Country', 'Source'], var_name='Year', value_name='Value')\n",
        "\n",
        "# Display the first few rows of the DataFrame\n",
        "modern_renewables_df.head()"
      ]
    },
    {
      "cell_type": "code",
      "execution_count": null,
      "id": "b2293733-0885-45da-9138-4bcd41512da0",
      "metadata": {
        "ExecuteTime": {
          "end_time": "2023-06-15T16:51:40.322619+00:00",
          "start_time": "2023-06-15T16:51:40.163725+00:00"
        },
        "noteable": {
          "cell_type": "code",
          "output_collection_id": "1f4e7955-9b09-46e6-8dce-36e9167b401d"
        }
      },
      "outputs": [],
      "source": [
        "# Display the unique values in the 'Kind of Energy' column\n",
        "data['Kind of Energy'].unique()"
      ]
    },
    {
      "cell_type": "code",
      "execution_count": null,
      "id": "421c0013-382d-47dc-ad8a-2275cce4e3f0",
      "metadata": {
        "ExecuteTime": {
          "end_time": "2023-06-15T16:52:42.905307+00:00",
          "start_time": "2023-06-15T16:52:42.587264+00:00"
        },
        "datalink": {
          "27786a66-fe29-4503-b75f-b614bd746fbd": {
            "applied_filters": [],
            "dataframe_info": {
              "default_index_used": true,
              "orig_num_cols": 37,
              "orig_num_rows": 5,
              "orig_size_bytes": 1520,
              "truncated_num_cols": 37,
              "truncated_num_rows": 5,
              "truncated_size_bytes": 1520,
              "truncated_string_columns": []
            },
            "display_id": "27786a66-fe29-4503-b75f-b614bd746fbd",
            "dx_settings": {
              "ALLOW_NOTEABLE_ATTRS": true,
              "COLUMN_SAMPLING_METHOD": "outer",
              "DB_LOCATION": ":memory:",
              "DEV_MODE": false,
              "DISPLAY_MAX_COLUMNS": 100,
              "DISPLAY_MAX_ROWS": 50000,
              "DISPLAY_MODE": "simple",
              "ENABLE_ASSIGNMENT": true,
              "ENABLE_DATALINK": true,
              "FLATTEN_COLUMN_VALUES": true,
              "FLATTEN_INDEX_VALUES": false,
              "GENERATE_DEX_METADATA": false,
              "HTML_TABLE_SCHEMA": false,
              "LOG_LEVEL": 30,
              "MAX_RENDER_SIZE_BYTES": 104857600,
              "MAX_STRING_LENGTH": 250,
              "NUM_PAST_SAMPLES_TRACKED": 3,
              "RANDOM_STATE": 12648430,
              "RESET_INDEX_VALUES": false,
              "ROW_SAMPLING_METHOD": "random",
              "SAMPLING_FACTOR": 0.1,
              "SAMPLING_METHOD": "random",
              "STRINGIFY_COLUMN_VALUES": true,
              "STRINGIFY_INDEX_VALUES": false
            },
            "sample_history": [],
            "sampling_time": "2023-06-15T16:52:42.741384",
            "user_variable_name": null,
            "variable_name": "unk_dataframe_7102a873c77249a2ad5994bc5c5ce3a4"
          },
          "52d7f31e-56af-4b0c-8552-322c32e113cd": {
            "applied_filters": [],
            "dataframe_info": {
              "default_index_used": true,
              "orig_num_cols": 37,
              "orig_num_rows": 5,
              "orig_size_bytes": 1520,
              "truncated_num_cols": 37,
              "truncated_num_rows": 5,
              "truncated_size_bytes": 1520,
              "truncated_string_columns": []
            },
            "display_id": "52d7f31e-56af-4b0c-8552-322c32e113cd",
            "dx_settings": {
              "ALLOW_NOTEABLE_ATTRS": true,
              "COLUMN_SAMPLING_METHOD": "outer",
              "DB_LOCATION": ":memory:",
              "DEV_MODE": false,
              "DISPLAY_MAX_COLUMNS": 100,
              "DISPLAY_MAX_ROWS": 50000,
              "DISPLAY_MODE": "simple",
              "ENABLE_ASSIGNMENT": true,
              "ENABLE_DATALINK": true,
              "FLATTEN_COLUMN_VALUES": true,
              "FLATTEN_INDEX_VALUES": false,
              "GENERATE_DEX_METADATA": false,
              "HTML_TABLE_SCHEMA": false,
              "LOG_LEVEL": 30,
              "MAX_RENDER_SIZE_BYTES": 104857600,
              "MAX_STRING_LENGTH": 250,
              "NUM_PAST_SAMPLES_TRACKED": 3,
              "RANDOM_STATE": 12648430,
              "RESET_INDEX_VALUES": false,
              "ROW_SAMPLING_METHOD": "random",
              "SAMPLING_FACTOR": 0.1,
              "SAMPLING_METHOD": "random",
              "STRINGIFY_COLUMN_VALUES": true,
              "STRINGIFY_INDEX_VALUES": false
            },
            "sample_history": [],
            "sampling_time": "2023-06-15T16:52:29.238765",
            "user_variable_name": null,
            "variable_name": "unk_dataframe_8447c25827c54a878a5f78cc7e5da00c"
          }
        },
        "noteable": {
          "cell_type": "code",
          "output_collection_id": "0035fbd3-3719-4015-9b25-c8165dfa2a0e"
        }
      },
      "outputs": [],
      "source": [
        "# Filter the data for 'Modern renewables'\n",
        "modern_renewables_df = data[data['Kind of Energy'] == 'Modern renewables']\n",
        "\n",
        "# Display the first few rows of the DataFrame\n",
        "modern_renewables_df.head()"
      ]
    },
    {
      "cell_type": "code",
      "execution_count": null,
      "id": "168146e6-a93e-4116-b428-a6642b16094d",
      "metadata": {
        "ExecuteTime": {
          "end_time": "2023-06-15T16:54:07.198429+00:00",
          "start_time": "2023-06-15T16:54:07.033692+00:00"
        },
        "noteable": {
          "cell_type": "code",
          "output_collection_id": "a9bddc7e-cb57-4c33-9747-8985424c1806"
        }
      },
      "outputs": [],
      "source": [
        "# Save the DataFrame to a CSV file\n",
        "modern_renewables_df.to_csv('modern_renewables.csv', index=False)"
      ]
    },
    {
      "cell_type": "code",
      "execution_count": null,
      "id": "55fd851d-ae35-495d-9252-d948ab74520a",
      "metadata": {
        "ExecuteTime": {
          "end_time": "2023-06-15T16:59:35.591762+00:00",
          "start_time": "2023-06-15T16:59:35.378506+00:00"
        },
        "datalink": {
          "104c2f9c-1487-4ab6-b897-186fdc526fd0": {
            "applied_filters": [],
            "dataframe_info": {
              "default_index_used": true,
              "orig_num_cols": 4,
              "orig_num_rows": 5,
              "orig_size_bytes": 200,
              "truncated_num_cols": 4,
              "truncated_num_rows": 5,
              "truncated_size_bytes": 200,
              "truncated_string_columns": []
            },
            "display_id": "104c2f9c-1487-4ab6-b897-186fdc526fd0",
            "dx_settings": {
              "ALLOW_NOTEABLE_ATTRS": true,
              "COLUMN_SAMPLING_METHOD": "outer",
              "DB_LOCATION": ":memory:",
              "DEV_MODE": false,
              "DISPLAY_MAX_COLUMNS": 100,
              "DISPLAY_MAX_ROWS": 50000,
              "DISPLAY_MODE": "simple",
              "ENABLE_ASSIGNMENT": true,
              "ENABLE_DATALINK": true,
              "FLATTEN_COLUMN_VALUES": true,
              "FLATTEN_INDEX_VALUES": false,
              "GENERATE_DEX_METADATA": false,
              "HTML_TABLE_SCHEMA": false,
              "LOG_LEVEL": 30,
              "MAX_RENDER_SIZE_BYTES": 104857600,
              "MAX_STRING_LENGTH": 250,
              "NUM_PAST_SAMPLES_TRACKED": 3,
              "RANDOM_STATE": 12648430,
              "RESET_INDEX_VALUES": false,
              "ROW_SAMPLING_METHOD": "random",
              "SAMPLING_FACTOR": 0.1,
              "SAMPLING_METHOD": "random",
              "STRINGIFY_COLUMN_VALUES": true,
              "STRINGIFY_INDEX_VALUES": false
            },
            "sample_history": [],
            "sampling_time": "2023-06-15T16:59:35.433946",
            "user_variable_name": null,
            "variable_name": "unk_dataframe_934c56745df843bbbdfd540d64f7895e"
          },
          "d91e49fa-47f0-4a55-b307-aea474b9bdab": {
            "applied_filters": [],
            "dataframe_info": {
              "default_index_used": true,
              "orig_num_cols": 4,
              "orig_num_rows": 5,
              "orig_size_bytes": 200,
              "truncated_num_cols": 4,
              "truncated_num_rows": 5,
              "truncated_size_bytes": 200,
              "truncated_string_columns": []
            },
            "display_id": "d91e49fa-47f0-4a55-b307-aea474b9bdab",
            "dx_settings": {
              "ALLOW_NOTEABLE_ATTRS": true,
              "COLUMN_SAMPLING_METHOD": "outer",
              "DB_LOCATION": ":memory:",
              "DEV_MODE": false,
              "DISPLAY_MAX_COLUMNS": 100,
              "DISPLAY_MAX_ROWS": 50000,
              "DISPLAY_MODE": "simple",
              "ENABLE_ASSIGNMENT": true,
              "ENABLE_DATALINK": true,
              "FLATTEN_COLUMN_VALUES": true,
              "FLATTEN_INDEX_VALUES": false,
              "GENERATE_DEX_METADATA": false,
              "HTML_TABLE_SCHEMA": false,
              "LOG_LEVEL": 30,
              "MAX_RENDER_SIZE_BYTES": 104857600,
              "MAX_STRING_LENGTH": 250,
              "NUM_PAST_SAMPLES_TRACKED": 3,
              "RANDOM_STATE": 12648430,
              "RESET_INDEX_VALUES": false,
              "ROW_SAMPLING_METHOD": "random",
              "SAMPLING_FACTOR": 0.1,
              "SAMPLING_METHOD": "random",
              "STRINGIFY_COLUMN_VALUES": true,
              "STRINGIFY_INDEX_VALUES": false
            },
            "sample_history": [],
            "sampling_time": "2023-06-15T16:59:24.042871",
            "user_variable_name": null,
            "variable_name": "unk_dataframe_b4f03245df4649558d650bec734067b4"
          }
        },
        "noteable": {
          "cell_type": "code",
          "output_collection_id": "f32b759e-d33b-4311-8da2-345f647b7c34"
        }
      },
      "outputs": [],
      "source": [
        "# Melt the DataFrame to transform the 'Years' and 'Values' columns\n",
        "modern_renewables_transformed_df = modern_renewables_df.melt(id_vars=['Country Name', 'Data Source'], var_name='Year', value_name='Value')\n",
        "\n",
        "# Display the first few rows of the transformed DataFrame\n",
        "modern_renewables_transformed_df.head()"
      ]
    },
    {
      "cell_type": "code",
      "execution_count": null,
      "id": "2c361fd0-865d-4fc9-b52d-ef10eefc6250",
      "metadata": {
        "ExecuteTime": {
          "end_time": "2023-06-15T17:00:22.413742+00:00",
          "start_time": "2023-06-15T17:00:22.224343+00:00"
        },
        "noteable": {
          "cell_type": "code",
          "output_collection_id": "4e0ec7da-ecd1-4e18-9072-4e5a55304926"
        }
      },
      "outputs": [],
      "source": [
        "# Save the DataFrame to a CSV file\n",
        "modern_renewables_transformed_df.to_csv('modern_renewables_transformed.csv', index=False)"
      ]
    },
    {
      "cell_type": "code",
      "execution_count": null,
      "id": "681f8cbd-1a7f-469b-881f-e602eb42defc",
      "metadata": {
        "ExecuteTime": {
          "end_time": "2023-06-15T17:06:05.977182+00:00",
          "start_time": "2023-06-15T17:06:05.755600+00:00"
        },
        "datalink": {
          "2a43f39c-622c-4318-9398-81071a0fe1ab": {
            "applied_filters": [],
            "dataframe_info": {
              "default_index_used": true,
              "orig_num_cols": 4,
              "orig_num_rows": 5,
              "orig_size_bytes": 200,
              "truncated_num_cols": 4,
              "truncated_num_rows": 5,
              "truncated_size_bytes": 200,
              "truncated_string_columns": []
            },
            "display_id": "2a43f39c-622c-4318-9398-81071a0fe1ab",
            "dx_settings": {
              "ALLOW_NOTEABLE_ATTRS": true,
              "COLUMN_SAMPLING_METHOD": "outer",
              "DB_LOCATION": ":memory:",
              "DEV_MODE": false,
              "DISPLAY_MAX_COLUMNS": 100,
              "DISPLAY_MAX_ROWS": 50000,
              "DISPLAY_MODE": "simple",
              "ENABLE_ASSIGNMENT": true,
              "ENABLE_DATALINK": true,
              "FLATTEN_COLUMN_VALUES": true,
              "FLATTEN_INDEX_VALUES": false,
              "GENERATE_DEX_METADATA": false,
              "HTML_TABLE_SCHEMA": false,
              "LOG_LEVEL": 30,
              "MAX_RENDER_SIZE_BYTES": 104857600,
              "MAX_STRING_LENGTH": 250,
              "NUM_PAST_SAMPLES_TRACKED": 3,
              "RANDOM_STATE": 12648430,
              "RESET_INDEX_VALUES": false,
              "ROW_SAMPLING_METHOD": "random",
              "SAMPLING_FACTOR": 0.1,
              "SAMPLING_METHOD": "random",
              "STRINGIFY_COLUMN_VALUES": true,
              "STRINGIFY_INDEX_VALUES": false
            },
            "sample_history": [],
            "sampling_time": "2023-06-15T17:05:51.845984",
            "user_variable_name": null,
            "variable_name": "unk_dataframe_83b92c6dc1344e568e6e981dd74d21cf"
          },
          "db499e21-18bc-45e9-8482-c4bdaec0c1ea": {
            "applied_filters": [],
            "dataframe_info": {
              "default_index_used": true,
              "orig_num_cols": 4,
              "orig_num_rows": 5,
              "orig_size_bytes": 200,
              "truncated_num_cols": 4,
              "truncated_num_rows": 5,
              "truncated_size_bytes": 200,
              "truncated_string_columns": []
            },
            "display_id": "db499e21-18bc-45e9-8482-c4bdaec0c1ea",
            "dx_settings": {
              "ALLOW_NOTEABLE_ATTRS": true,
              "COLUMN_SAMPLING_METHOD": "outer",
              "DB_LOCATION": ":memory:",
              "DEV_MODE": false,
              "DISPLAY_MAX_COLUMNS": 100,
              "DISPLAY_MAX_ROWS": 50000,
              "DISPLAY_MODE": "simple",
              "ENABLE_ASSIGNMENT": true,
              "ENABLE_DATALINK": true,
              "FLATTEN_COLUMN_VALUES": true,
              "FLATTEN_INDEX_VALUES": false,
              "GENERATE_DEX_METADATA": false,
              "HTML_TABLE_SCHEMA": false,
              "LOG_LEVEL": 30,
              "MAX_RENDER_SIZE_BYTES": 104857600,
              "MAX_STRING_LENGTH": 250,
              "NUM_PAST_SAMPLES_TRACKED": 3,
              "RANDOM_STATE": 12648430,
              "RESET_INDEX_VALUES": false,
              "ROW_SAMPLING_METHOD": "random",
              "SAMPLING_FACTOR": 0.1,
              "SAMPLING_METHOD": "random",
              "STRINGIFY_COLUMN_VALUES": true,
              "STRINGIFY_INDEX_VALUES": false
            },
            "sample_history": [],
            "sampling_time": "2023-06-15T17:06:05.817979",
            "user_variable_name": null,
            "variable_name": "unk_dataframe_da60e21482fd4acca0d47cf7439329a6"
          }
        },
        "noteable": {
          "cell_type": "code",
          "output_collection_id": "b359793a-9a00-4e41-8108-54b4c45598f8"
        }
      },
      "outputs": [],
      "source": [
        "# Melt the DataFrame to transform the 'Years' and 'Values' columns\n",
        "modern_renewables_transformed_df = modern_renewables_df.melt(id_vars=['Country Name', 'Data Source'], var_name='Year', value_name='Value')\n",
        "\n",
        "# Filter out the rows where 'Year' is 'Country Code'\n",
        "modern_renewables_transformed_df = modern_renewables_transformed_df[modern_renewables_transformed_df['Year'] != 'Country Code']\n",
        "\n",
        "# Display the first few rows of the transformed DataFrame\n",
        "modern_renewables_transformed_df.head()"
      ]
    },
    {
      "cell_type": "code",
      "execution_count": null,
      "id": "70a9573e-0192-4fe0-947f-32ab029cbe90",
      "metadata": {
        "ExecuteTime": {
          "end_time": "2023-06-15T17:08:57.726035+00:00",
          "start_time": "2023-06-15T17:08:57.487237+00:00"
        },
        "datalink": {
          "133a5a2e-520a-4d08-a24e-65bdede9cfd9": {
            "applied_filters": [],
            "dataframe_info": {
              "default_index_used": true,
              "orig_num_cols": 4,
              "orig_num_rows": 1000,
              "orig_size_bytes": 40000,
              "truncated_num_cols": 4,
              "truncated_num_rows": 1000,
              "truncated_size_bytes": 40000,
              "truncated_string_columns": []
            },
            "display_id": "133a5a2e-520a-4d08-a24e-65bdede9cfd9",
            "dx_settings": {
              "ALLOW_NOTEABLE_ATTRS": true,
              "COLUMN_SAMPLING_METHOD": "outer",
              "DB_LOCATION": ":memory:",
              "DEV_MODE": false,
              "DISPLAY_MAX_COLUMNS": 100,
              "DISPLAY_MAX_ROWS": 50000,
              "DISPLAY_MODE": "simple",
              "ENABLE_ASSIGNMENT": true,
              "ENABLE_DATALINK": true,
              "FLATTEN_COLUMN_VALUES": true,
              "FLATTEN_INDEX_VALUES": false,
              "GENERATE_DEX_METADATA": false,
              "HTML_TABLE_SCHEMA": false,
              "LOG_LEVEL": 30,
              "MAX_RENDER_SIZE_BYTES": 104857600,
              "MAX_STRING_LENGTH": 250,
              "NUM_PAST_SAMPLES_TRACKED": 3,
              "RANDOM_STATE": 12648430,
              "RESET_INDEX_VALUES": false,
              "ROW_SAMPLING_METHOD": "random",
              "SAMPLING_FACTOR": 0.1,
              "SAMPLING_METHOD": "random",
              "STRINGIFY_COLUMN_VALUES": true,
              "STRINGIFY_INDEX_VALUES": false
            },
            "sample_history": [],
            "sampling_time": "2023-06-15T17:08:57.560657",
            "user_variable_name": null,
            "variable_name": "unk_dataframe_2c798d80799c45a2926979e29a943944"
          },
          "70500d1b-0357-492a-aa83-d41a73e41265": {
            "applied_filters": [],
            "dataframe_info": {
              "default_index_used": true,
              "orig_num_cols": 4,
              "orig_num_rows": 100,
              "orig_size_bytes": 4000,
              "truncated_num_cols": 4,
              "truncated_num_rows": 100,
              "truncated_size_bytes": 4000,
              "truncated_string_columns": []
            },
            "display_id": "70500d1b-0357-492a-aa83-d41a73e41265",
            "dx_settings": {
              "ALLOW_NOTEABLE_ATTRS": true,
              "COLUMN_SAMPLING_METHOD": "outer",
              "DB_LOCATION": ":memory:",
              "DEV_MODE": false,
              "DISPLAY_MAX_COLUMNS": 100,
              "DISPLAY_MAX_ROWS": 50000,
              "DISPLAY_MODE": "simple",
              "ENABLE_ASSIGNMENT": true,
              "ENABLE_DATALINK": true,
              "FLATTEN_COLUMN_VALUES": true,
              "FLATTEN_INDEX_VALUES": false,
              "GENERATE_DEX_METADATA": false,
              "HTML_TABLE_SCHEMA": false,
              "LOG_LEVEL": 30,
              "MAX_RENDER_SIZE_BYTES": 104857600,
              "MAX_STRING_LENGTH": 250,
              "NUM_PAST_SAMPLES_TRACKED": 3,
              "RANDOM_STATE": 12648430,
              "RESET_INDEX_VALUES": false,
              "ROW_SAMPLING_METHOD": "random",
              "SAMPLING_FACTOR": 0.1,
              "SAMPLING_METHOD": "random",
              "STRINGIFY_COLUMN_VALUES": true,
              "STRINGIFY_INDEX_VALUES": false
            },
            "sample_history": [],
            "sampling_time": "2023-06-15T17:07:50.734655",
            "user_variable_name": null,
            "variable_name": "unk_dataframe_81ec2bb68ff54621812fbe70f388fd78"
          },
          "ada007a6-ac2b-4923-afc1-4d68d487105d": {
            "applied_filters": [],
            "dataframe_info": {
              "default_index_used": true,
              "orig_num_cols": 4,
              "orig_num_rows": 5,
              "orig_size_bytes": 200,
              "truncated_num_cols": 4,
              "truncated_num_rows": 5,
              "truncated_size_bytes": 200,
              "truncated_string_columns": []
            },
            "display_id": "ada007a6-ac2b-4923-afc1-4d68d487105d",
            "dx_settings": {
              "ALLOW_NOTEABLE_ATTRS": true,
              "COLUMN_SAMPLING_METHOD": "outer",
              "DB_LOCATION": ":memory:",
              "DEV_MODE": false,
              "DISPLAY_MAX_COLUMNS": 100,
              "DISPLAY_MAX_ROWS": 50000,
              "DISPLAY_MODE": "simple",
              "ENABLE_ASSIGNMENT": true,
              "ENABLE_DATALINK": true,
              "FLATTEN_COLUMN_VALUES": true,
              "FLATTEN_INDEX_VALUES": false,
              "GENERATE_DEX_METADATA": false,
              "HTML_TABLE_SCHEMA": false,
              "LOG_LEVEL": 30,
              "MAX_RENDER_SIZE_BYTES": 104857600,
              "MAX_STRING_LENGTH": 250,
              "NUM_PAST_SAMPLES_TRACKED": 3,
              "RANDOM_STATE": 12648430,
              "RESET_INDEX_VALUES": false,
              "ROW_SAMPLING_METHOD": "random",
              "SAMPLING_FACTOR": 0.1,
              "SAMPLING_METHOD": "random",
              "STRINGIFY_COLUMN_VALUES": true,
              "STRINGIFY_INDEX_VALUES": false
            },
            "sample_history": [],
            "sampling_time": "2023-06-15T17:07:16.454572",
            "user_variable_name": null,
            "variable_name": "unk_dataframe_e11495a397a547faab6b4a24836dc4ce"
          }
        },
        "noteable": {
          "cell_type": "code",
          "output_collection_id": "896b2b5d-05e4-48b1-9829-a45da095be4e"
        }
      },
      "outputs": [],
      "source": [
        "# Convert the 'Year' column to numeric values, replacing non-numeric values with NaN\n",
        "modern_renewables_transformed_df['Year'] = pd.to_numeric(modern_renewables_transformed_df['Year'], errors='coerce')\n",
        "\n",
        "# Drop the rows with NaN in the 'Year' column\n",
        "modern_renewables_transformed_df = modern_renewables_transformed_df.dropna(subset=['Year'])\n",
        "\n",
        "# Convert the 'Year' column back to integer\n",
        "modern_renewables_transformed_df['Year'] = modern_renewables_transformed_df['Year'].astype(int)\n",
        "\n",
        "# Display the first few rows of the transformed DataFrame\n",
        "modern_renewables_transformed_df.head(1000)"
      ]
    },
    {
      "cell_type": "code",
      "execution_count": null,
      "id": "1bdc20d0-666e-46ac-928a-a3cec03136b6",
      "metadata": {
        "ExecuteTime": {
          "end_time": "2023-06-15T17:09:19.141033+00:00",
          "start_time": "2023-06-15T17:09:18.953631+00:00"
        },
        "noteable": {
          "cell_type": "code",
          "output_collection_id": "46d7ccd3-0cc0-4f1e-801d-1d03f5cddc27"
        }
      },
      "outputs": [],
      "source": [
        "# Save the transformed DataFrame to a new CSV file\n",
        "modern_renewables_transformed_df.to_csv('modern_renewables_transformed.csv', index=False)"
      ]
    },
    {
      "cell_type": "code",
      "execution_count": null,
      "id": "69eb581a-671e-43ab-af0c-9c225e4ef022",
      "metadata": {
        "ExecuteTime": {
          "end_time": "2023-06-15T17:10:56.782894+00:00",
          "start_time": "2023-06-15T17:10:56.570824+00:00"
        },
        "datalink": {
          "86601cd4-445f-447e-a960-1808dca3fd2e": {
            "applied_filters": [],
            "dataframe_info": {
              "default_index_used": true,
              "orig_num_cols": 4,
              "orig_num_rows": 5,
              "orig_size_bytes": 200,
              "truncated_num_cols": 4,
              "truncated_num_rows": 5,
              "truncated_size_bytes": 200,
              "truncated_string_columns": []
            },
            "display_id": "86601cd4-445f-447e-a960-1808dca3fd2e",
            "dx_settings": {
              "ALLOW_NOTEABLE_ATTRS": true,
              "COLUMN_SAMPLING_METHOD": "outer",
              "DB_LOCATION": ":memory:",
              "DEV_MODE": false,
              "DISPLAY_MAX_COLUMNS": 100,
              "DISPLAY_MAX_ROWS": 50000,
              "DISPLAY_MODE": "simple",
              "ENABLE_ASSIGNMENT": true,
              "ENABLE_DATALINK": true,
              "FLATTEN_COLUMN_VALUES": true,
              "FLATTEN_INDEX_VALUES": false,
              "GENERATE_DEX_METADATA": false,
              "HTML_TABLE_SCHEMA": false,
              "LOG_LEVEL": 30,
              "MAX_RENDER_SIZE_BYTES": 104857600,
              "MAX_STRING_LENGTH": 250,
              "NUM_PAST_SAMPLES_TRACKED": 3,
              "RANDOM_STATE": 12648430,
              "RESET_INDEX_VALUES": false,
              "ROW_SAMPLING_METHOD": "random",
              "SAMPLING_FACTOR": 0.1,
              "SAMPLING_METHOD": "random",
              "STRINGIFY_COLUMN_VALUES": true,
              "STRINGIFY_INDEX_VALUES": false
            },
            "sample_history": [],
            "sampling_time": "2023-06-15T17:10:56.626075",
            "user_variable_name": null,
            "variable_name": "unk_dataframe_3f04e3e369fc43f0ab98ed354e5a9924"
          }
        },
        "noteable": {
          "cell_type": "code",
          "output_collection_id": "55fcb7d3-d5c5-46f1-8253-fcfae27201a5"
        }
      },
      "outputs": [],
      "source": [
        "# Sort the DataFrame by 'Country Name' and 'Year'\n",
        "modern_renewables_transformed_df = modern_renewables_transformed_df.sort_values(by=['Country Name', 'Year'])\n",
        "\n",
        "# Display the first few rows of the sorted DataFrame\n",
        "modern_renewables_transformed_df.head()"
      ]
    },
    {
      "cell_type": "code",
      "execution_count": null,
      "id": "911946cd-7754-4812-b6f4-bd25cde7e274",
      "metadata": {
        "ExecuteTime": {
          "end_time": "2023-06-15T17:12:26.237567+00:00",
          "start_time": "2023-06-15T17:12:26.051649+00:00"
        },
        "noteable": {
          "cell_type": "code",
          "output_collection_id": "42adb29e-8bf5-4e44-8368-fc164c6df167"
        }
      },
      "outputs": [],
      "source": [
        "# Save the sorted DataFrame to a new CSV file\n",
        "modern_renewables_transformed_df.to_csv('modern_renewables_sorted.csv', index=False)"
      ]
    },
    {
      "cell_type": "code",
      "execution_count": null,
      "id": "3f50ef73-b94c-4cce-94e4-2dc24c2c15e4",
      "metadata": {
        "ExecuteTime": {
          "end_time": "2023-06-15T17:27:30.834363+00:00",
          "start_time": "2023-06-15T17:27:30.509848+00:00"
        },
        "datalink": {
          "07b72213-b302-4a2d-9b86-39c56d00d78a": {
            "applied_filters": [],
            "dataframe_info": {
              "default_index_used": true,
              "orig_num_cols": 37,
              "orig_num_rows": 5,
              "orig_size_bytes": 1520,
              "truncated_num_cols": 37,
              "truncated_num_rows": 5,
              "truncated_size_bytes": 1520,
              "truncated_string_columns": []
            },
            "display_id": "07b72213-b302-4a2d-9b86-39c56d00d78a",
            "dx_settings": {
              "ALLOW_NOTEABLE_ATTRS": true,
              "COLUMN_SAMPLING_METHOD": "outer",
              "DB_LOCATION": ":memory:",
              "DEV_MODE": false,
              "DISPLAY_MAX_COLUMNS": 100,
              "DISPLAY_MAX_ROWS": 50000,
              "DISPLAY_MODE": "simple",
              "ENABLE_ASSIGNMENT": true,
              "ENABLE_DATALINK": true,
              "FLATTEN_COLUMN_VALUES": true,
              "FLATTEN_INDEX_VALUES": false,
              "GENERATE_DEX_METADATA": false,
              "HTML_TABLE_SCHEMA": false,
              "LOG_LEVEL": 30,
              "MAX_RENDER_SIZE_BYTES": 104857600,
              "MAX_STRING_LENGTH": 250,
              "NUM_PAST_SAMPLES_TRACKED": 3,
              "RANDOM_STATE": 12648430,
              "RESET_INDEX_VALUES": false,
              "ROW_SAMPLING_METHOD": "random",
              "SAMPLING_FACTOR": 0.1,
              "SAMPLING_METHOD": "random",
              "STRINGIFY_COLUMN_VALUES": true,
              "STRINGIFY_INDEX_VALUES": false
            },
            "sample_history": [],
            "sampling_time": "2023-06-15T17:27:30.672842",
            "user_variable_name": null,
            "variable_name": "unk_dataframe_60c1754377f7427aadfd13fc611de181"
          }
        },
        "jupyter": {
          "outputs_hidden": false,
          "source_hidden": false
        },
        "noteable": {
          "cell_type": "code",
          "output_collection_id": "1b56ac16-a085-4736-ac8f-6f4baeb876f8"
        }
      },
      "outputs": [],
      "source": [
        "modern_renewables.head(5)"
      ]
    },
    {
      "cell_type": "code",
      "execution_count": null,
      "id": "61b96bc2-c7ca-4457-a1cc-8e06bbe064e3",
      "metadata": {
        "jupyter": {
          "outputs_hidden": false,
          "source_hidden": false
        },
        "noteable": {
          "cell_type": "code"
        }
      },
      "outputs": [],
      "source": [
        "# List of unique kinds of energy\n",
        "kinds_of_energy = data['Kind of Energy'].unique()\n",
        "\n",
        "# For each kind of energy, create a transformed and sorted DataFrame and save it to a CSV file\n",
        "for kind_of_energy in kinds_of_energy:\n",
        "    # Filter the DataFrame for the current kind of energy\n",
        "    kind_of_energy_df = data[data['Kind of Energy'] == kind_of_energy]\n",
        "\n",
        "    # Melt the DataFrame to reshape it\n",
        "    kind_of_energy_df = kind_of_energy_df.melt(id_vars=['Country Name', 'Data Source'],\n",
        "                                                var_name='Year',\n",
        "                                                value_name='Value',\n",
        "                                                value_vars=[str(year) for year in range(1990, 2022)])\n",
        "\n",
        "    # Convert the 'Year' column to numeric values, replacing non-numeric values with NaN\n",
        "    kind_of_energy_df['Year'] = pd.to_numeric(kind_of_energy_df['Year'], errors='coerce')\n",
        "\n",
        "    # Drop the rows with NaN in the 'Year' column\n",
        "    kind_of_energy_df = kind_of_energy_df.dropna(subset=['Year'])\n",
        "\n",
        "    # Convert the 'Year' column back to integer\n",
        "    kind_of_energy_df['Year'] = kind_of_energy_df['Year'].astype(int)\n",
        "\n",
        "    # Sort the DataFrame by 'Country Name' and 'Year'\n",
        "    kind_of_energy_df = kind_of_energy_df.sort_values(by=['Country Name', 'Year'])\n",
        "\n",
        "    # Save the transformed and sorted DataFrame to a CSV file\n",
        "    kind_of_energy_df.to_csv(f'{kind_of_energy}_transformed_sorted.csv', index=False)"
      ]
    },
    {
      "cell_type": "code",
      "execution_count": null,
      "id": "f789dab0-32a4-4418-a414-91bbbaad634e",
      "metadata": {
        "ExecuteTime": {
          "end_time": "2023-06-15T18:22:21.101905+00:00",
          "start_time": "2023-06-15T18:22:20.888069+00:00"
        },
        "datalink": {
          "0f87f0ef-1cb3-419c-a03c-4343b3bd6ab8": {
            "applied_filters": [],
            "dataframe_info": {
              "default_index_used": true,
              "orig_num_cols": 4,
              "orig_num_rows": 1000,
              "orig_size_bytes": 40000,
              "truncated_num_cols": 4,
              "truncated_num_rows": 1000,
              "truncated_size_bytes": 40000,
              "truncated_string_columns": []
            },
            "display_id": "0f87f0ef-1cb3-419c-a03c-4343b3bd6ab8",
            "dx_settings": {
              "ALLOW_NOTEABLE_ATTRS": true,
              "COLUMN_SAMPLING_METHOD": "outer",
              "DB_LOCATION": ":memory:",
              "DEV_MODE": false,
              "DISPLAY_MAX_COLUMNS": 100,
              "DISPLAY_MAX_ROWS": 50000,
              "DISPLAY_MODE": "simple",
              "ENABLE_ASSIGNMENT": true,
              "ENABLE_DATALINK": true,
              "FLATTEN_COLUMN_VALUES": true,
              "FLATTEN_INDEX_VALUES": false,
              "GENERATE_DEX_METADATA": false,
              "HTML_TABLE_SCHEMA": false,
              "LOG_LEVEL": 30,
              "MAX_RENDER_SIZE_BYTES": 104857600,
              "MAX_STRING_LENGTH": 250,
              "NUM_PAST_SAMPLES_TRACKED": 3,
              "RANDOM_STATE": 12648430,
              "RESET_INDEX_VALUES": false,
              "ROW_SAMPLING_METHOD": "random",
              "SAMPLING_FACTOR": 0.1,
              "SAMPLING_METHOD": "random",
              "STRINGIFY_COLUMN_VALUES": true,
              "STRINGIFY_INDEX_VALUES": false
            },
            "sample_history": [],
            "sampling_time": "2023-06-15T18:11:36.678090",
            "user_variable_name": null,
            "variable_name": "unk_dataframe_3a09d8255bd748f5bb8c250e91efeb15"
          },
          "4f56cf08-59f3-4f2e-82c5-3781eec689f7": {
            "applied_filters": [],
            "dataframe_info": {
              "default_index_used": true,
              "orig_num_cols": 4,
              "orig_num_rows": 1000,
              "orig_size_bytes": 40000,
              "truncated_num_cols": 4,
              "truncated_num_rows": 1000,
              "truncated_size_bytes": 40000,
              "truncated_string_columns": []
            },
            "display_id": "4f56cf08-59f3-4f2e-82c5-3781eec689f7",
            "dx_settings": {
              "ALLOW_NOTEABLE_ATTRS": true,
              "COLUMN_SAMPLING_METHOD": "outer",
              "DB_LOCATION": ":memory:",
              "DEV_MODE": false,
              "DISPLAY_MAX_COLUMNS": 100,
              "DISPLAY_MAX_ROWS": 50000,
              "DISPLAY_MODE": "simple",
              "ENABLE_ASSIGNMENT": true,
              "ENABLE_DATALINK": true,
              "FLATTEN_COLUMN_VALUES": true,
              "FLATTEN_INDEX_VALUES": false,
              "GENERATE_DEX_METADATA": false,
              "HTML_TABLE_SCHEMA": false,
              "LOG_LEVEL": 30,
              "MAX_RENDER_SIZE_BYTES": 104857600,
              "MAX_STRING_LENGTH": 250,
              "NUM_PAST_SAMPLES_TRACKED": 3,
              "RANDOM_STATE": 12648430,
              "RESET_INDEX_VALUES": false,
              "ROW_SAMPLING_METHOD": "random",
              "SAMPLING_FACTOR": 0.1,
              "SAMPLING_METHOD": "random",
              "STRINGIFY_COLUMN_VALUES": true,
              "STRINGIFY_INDEX_VALUES": false
            },
            "sample_history": [],
            "sampling_time": "2023-06-15T18:11:11.270385",
            "user_variable_name": null,
            "variable_name": "unk_dataframe_19941a9bfc5b4b17a111234a1d61b00b"
          },
          "7dfe3857-bb66-4d32-b3b0-aaaac470b70b": {
            "applied_filters": [],
            "dataframe_info": {
              "default_index_used": true,
              "orig_num_cols": 4,
              "orig_num_rows": 5,
              "orig_size_bytes": 200,
              "truncated_num_cols": 4,
              "truncated_num_rows": 5,
              "truncated_size_bytes": 200,
              "truncated_string_columns": []
            },
            "display_id": "7dfe3857-bb66-4d32-b3b0-aaaac470b70b",
            "dx_settings": {
              "ALLOW_NOTEABLE_ATTRS": true,
              "COLUMN_SAMPLING_METHOD": "outer",
              "DB_LOCATION": ":memory:",
              "DEV_MODE": false,
              "DISPLAY_MAX_COLUMNS": 100,
              "DISPLAY_MAX_ROWS": 50000,
              "DISPLAY_MODE": "simple",
              "ENABLE_ASSIGNMENT": true,
              "ENABLE_DATALINK": true,
              "FLATTEN_COLUMN_VALUES": true,
              "FLATTEN_INDEX_VALUES": false,
              "GENERATE_DEX_METADATA": false,
              "HTML_TABLE_SCHEMA": false,
              "LOG_LEVEL": 30,
              "MAX_RENDER_SIZE_BYTES": 104857600,
              "MAX_STRING_LENGTH": 250,
              "NUM_PAST_SAMPLES_TRACKED": 3,
              "RANDOM_STATE": 12648430,
              "RESET_INDEX_VALUES": false,
              "ROW_SAMPLING_METHOD": "random",
              "SAMPLING_FACTOR": 0.1,
              "SAMPLING_METHOD": "random",
              "STRINGIFY_COLUMN_VALUES": true,
              "STRINGIFY_INDEX_VALUES": false
            },
            "sample_history": [],
            "sampling_time": "2023-06-15T18:09:51.000762",
            "user_variable_name": null,
            "variable_name": "unk_dataframe_5a124e1f996a45ccbc35046147a95ba5"
          },
          "8f9a4098-cd6e-4d4b-87d5-d4680318d68b": {
            "applied_filters": [],
            "dataframe_info": {
              "default_index_used": true,
              "orig_num_cols": 4,
              "orig_num_rows": 1000,
              "orig_size_bytes": 40000,
              "truncated_num_cols": 4,
              "truncated_num_rows": 1000,
              "truncated_size_bytes": 40000,
              "truncated_string_columns": []
            },
            "display_id": "8f9a4098-cd6e-4d4b-87d5-d4680318d68b",
            "dx_settings": {
              "ALLOW_NOTEABLE_ATTRS": true,
              "COLUMN_SAMPLING_METHOD": "outer",
              "DB_LOCATION": ":memory:",
              "DEV_MODE": false,
              "DISPLAY_MAX_COLUMNS": 100,
              "DISPLAY_MAX_ROWS": 50000,
              "DISPLAY_MODE": "simple",
              "ENABLE_ASSIGNMENT": true,
              "ENABLE_DATALINK": true,
              "FLATTEN_COLUMN_VALUES": true,
              "FLATTEN_INDEX_VALUES": false,
              "GENERATE_DEX_METADATA": false,
              "HTML_TABLE_SCHEMA": false,
              "LOG_LEVEL": 30,
              "MAX_RENDER_SIZE_BYTES": 104857600,
              "MAX_STRING_LENGTH": 250,
              "NUM_PAST_SAMPLES_TRACKED": 3,
              "RANDOM_STATE": 12648430,
              "RESET_INDEX_VALUES": false,
              "ROW_SAMPLING_METHOD": "random",
              "SAMPLING_FACTOR": 0.1,
              "SAMPLING_METHOD": "random",
              "STRINGIFY_COLUMN_VALUES": true,
              "STRINGIFY_INDEX_VALUES": false
            },
            "sample_history": [],
            "sampling_time": "2023-06-15T18:12:47.733597",
            "user_variable_name": null,
            "variable_name": "unk_dataframe_567e7b288b5d4e99a04c7515b9af4c75"
          },
          "996e69ae-e40d-499a-9ea2-44c423b07438": {
            "applied_filters": [],
            "dataframe_info": {
              "default_index_used": true,
              "orig_num_cols": 4,
              "orig_num_rows": 1000,
              "orig_size_bytes": 40000,
              "truncated_num_cols": 4,
              "truncated_num_rows": 1000,
              "truncated_size_bytes": 40000,
              "truncated_string_columns": []
            },
            "display_id": "996e69ae-e40d-499a-9ea2-44c423b07438",
            "dx_settings": {
              "ALLOW_NOTEABLE_ATTRS": true,
              "COLUMN_SAMPLING_METHOD": "outer",
              "DB_LOCATION": ":memory:",
              "DEV_MODE": false,
              "DISPLAY_MAX_COLUMNS": 100,
              "DISPLAY_MAX_ROWS": 50000,
              "DISPLAY_MODE": "simple",
              "ENABLE_ASSIGNMENT": true,
              "ENABLE_DATALINK": true,
              "FLATTEN_COLUMN_VALUES": true,
              "FLATTEN_INDEX_VALUES": false,
              "GENERATE_DEX_METADATA": false,
              "HTML_TABLE_SCHEMA": false,
              "LOG_LEVEL": 30,
              "MAX_RENDER_SIZE_BYTES": 104857600,
              "MAX_STRING_LENGTH": 250,
              "NUM_PAST_SAMPLES_TRACKED": 3,
              "RANDOM_STATE": 12648430,
              "RESET_INDEX_VALUES": false,
              "ROW_SAMPLING_METHOD": "random",
              "SAMPLING_FACTOR": 0.1,
              "SAMPLING_METHOD": "random",
              "STRINGIFY_COLUMN_VALUES": true,
              "STRINGIFY_INDEX_VALUES": false
            },
            "sample_history": [],
            "sampling_time": "2023-06-15T18:10:32.277525",
            "user_variable_name": null,
            "variable_name": "unk_dataframe_f0986431109b47fbb95b8dea1b21d7cd"
          },
          "c6a436c1-023b-4297-ad34-c1425fad53de": {
            "applied_filters": [],
            "dataframe_info": {
              "default_index_used": true,
              "orig_num_cols": 4,
              "orig_num_rows": 5,
              "orig_size_bytes": 200,
              "truncated_num_cols": 4,
              "truncated_num_rows": 5,
              "truncated_size_bytes": 200,
              "truncated_string_columns": []
            },
            "display_id": "c6a436c1-023b-4297-ad34-c1425fad53de",
            "dx_settings": {
              "ALLOW_NOTEABLE_ATTRS": true,
              "COLUMN_SAMPLING_METHOD": "outer",
              "DB_LOCATION": ":memory:",
              "DEV_MODE": false,
              "DISPLAY_MAX_COLUMNS": 100,
              "DISPLAY_MAX_ROWS": 50000,
              "DISPLAY_MODE": "simple",
              "ENABLE_ASSIGNMENT": true,
              "ENABLE_DATALINK": true,
              "FLATTEN_COLUMN_VALUES": true,
              "FLATTEN_INDEX_VALUES": false,
              "GENERATE_DEX_METADATA": false,
              "HTML_TABLE_SCHEMA": false,
              "LOG_LEVEL": 30,
              "MAX_RENDER_SIZE_BYTES": 104857600,
              "MAX_STRING_LENGTH": 250,
              "NUM_PAST_SAMPLES_TRACKED": 3,
              "RANDOM_STATE": 12648430,
              "RESET_INDEX_VALUES": false,
              "ROW_SAMPLING_METHOD": "random",
              "SAMPLING_FACTOR": 0.1,
              "SAMPLING_METHOD": "random",
              "STRINGIFY_COLUMN_VALUES": true,
              "STRINGIFY_INDEX_VALUES": false
            },
            "sample_history": [],
            "sampling_time": "2023-06-15T18:10:20.066940",
            "user_variable_name": null,
            "variable_name": "unk_dataframe_0a2dd0f4ee0048f88a1ff1986f8dcaca"
          },
          "f0a1fba1-1284-4d0b-b26f-6829e3953e07": {
            "applied_filters": [],
            "dataframe_info": {
              "default_index_used": true,
              "orig_num_cols": 4,
              "orig_num_rows": 5,
              "orig_size_bytes": 200,
              "truncated_num_cols": 4,
              "truncated_num_rows": 5,
              "truncated_size_bytes": 200,
              "truncated_string_columns": []
            },
            "display_id": "f0a1fba1-1284-4d0b-b26f-6829e3953e07",
            "dx_settings": {
              "ALLOW_NOTEABLE_ATTRS": true,
              "COLUMN_SAMPLING_METHOD": "outer",
              "DB_LOCATION": ":memory:",
              "DEV_MODE": false,
              "DISPLAY_MAX_COLUMNS": 100,
              "DISPLAY_MAX_ROWS": 50000,
              "DISPLAY_MODE": "simple",
              "ENABLE_ASSIGNMENT": true,
              "ENABLE_DATALINK": true,
              "FLATTEN_COLUMN_VALUES": true,
              "FLATTEN_INDEX_VALUES": false,
              "GENERATE_DEX_METADATA": false,
              "HTML_TABLE_SCHEMA": false,
              "LOG_LEVEL": 30,
              "MAX_RENDER_SIZE_BYTES": 104857600,
              "MAX_STRING_LENGTH": 250,
              "NUM_PAST_SAMPLES_TRACKED": 3,
              "RANDOM_STATE": 12648430,
              "RESET_INDEX_VALUES": false,
              "ROW_SAMPLING_METHOD": "random",
              "SAMPLING_FACTOR": 0.1,
              "SAMPLING_METHOD": "random",
              "STRINGIFY_COLUMN_VALUES": true,
              "STRINGIFY_INDEX_VALUES": false
            },
            "sample_history": [],
            "sampling_time": "2023-06-15T18:08:13.189968",
            "user_variable_name": null,
            "variable_name": "unk_dataframe_a46322a7d583414a886f22ece97637cf"
          }
        },
        "jupyter": {
          "outputs_hidden": false,
          "source_hidden": false
        },
        "noteable": {
          "cell_type": "code",
          "output_collection_id": "0206aa5a-fee7-410c-a314-61b0a1396e86"
        }
      },
      "outputs": [],
      "source": [
        "# List of unique kinds of energy\n",
        "kind_of_energy_df = data[data['Kind of Energy'] == 'Geothermal']\n",
        "\n",
        "\n",
        "# Melt the DataFrame to reshape it\n",
        "kind_of_energy_df = kind_of_energy_df.melt(id_vars=['Country Name', 'Data Source'],\n",
        "                                            var_name='Year',\n",
        "                                            value_name='Value',\n",
        "                                            value_vars=[str(year) for year in range(1990, 2022)])\n",
        "\n",
        "    # Convert the 'Year' column to numeric values, replacing non-numeric values with NaN\n",
        "kind_of_energy_df['Year'] = pd.to_numeric(kind_of_energy_df['Year'], errors='coerce')\n",
        "\n",
        "# Convert the 'Year' column back to integer\n",
        "kind_of_energy_df['Year'] = kind_of_energy_df['Year'].astype(int)\n",
        "\n",
        "# Sort the DataFrame by 'Country Name' and 'Year'\n",
        "kind_of_energy_df = kind_of_energy_df.sort_values(by=['Country Name', 'Year'])\n",
        "\n",
        "# Save the transformed and sorted DataFrame to a CSV file\n",
        "kind_of_energy_df.to_csv('\\Geothermal_soted.csv', index=True)"
      ]
    }
  ],
  "metadata": {
    "kernelspec": {
      "display_name": "Python 3",
      "language": "python",
      "name": "python3"
    },
    "language_info": {
      "codemirror_mode": {
        "name": "ipython",
        "version": 3
      },
      "file_extension": ".py",
      "mimetype": "text/x-python",
      "name": "python",
      "nbconvert_exporter": "python",
      "pygments_lexer": "ipython3",
      "version": "3.11.2"
    },
    "noteable": {
      "last_transaction_id": "88476bfe-88e0-4eda-ae30-0921964cc3ac"
    },
    "noteable-chatgpt": {
      "create_notebook": {
        "openai_conversation_id": "9e85d46b-35e4-5b5d-ab62-ac96567b115a",
        "openai_ephemeral_user_id": "7cd6483b-1e6d-56fd-9345-198abded9516",
        "openai_subdivision1_iso_code": "US-MA"
      }
    },
    "selected_hardware_size": "small"
  },
  "nbformat": 4,
  "nbformat_minor": 5
}
